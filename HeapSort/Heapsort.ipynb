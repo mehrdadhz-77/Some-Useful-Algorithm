{
 "cells": [
  {
   "cell_type": "markdown",
   "id": "5e00ca82",
   "metadata": {},
   "source": [
    "# Sorting a list using Heapsort"
   ]
  },
  {
   "cell_type": "markdown",
   "id": "0e4927fd",
   "metadata": {},
   "source": [
    "**Code is provided at the end of the notebook**"
   ]
  },
  {
   "cell_type": "markdown",
   "id": "9f765f05",
   "metadata": {},
   "source": [
    "- Author: Mehrdad Hassanzadeh<br/>\n",
    "- Master of Data Science student \n",
    "- University: Sapienza University of Rome\n",
    "- Institutional email address: hassanzadeh.1961575@studenti.uniroma1.it"
   ]
  },
  {
   "cell_type": "markdown",
   "id": "f153e8c2",
   "metadata": {},
   "source": [
    "In this code we want to write a heapsort that given a list will sort the list in ascending or descending order based on the choice of the user. "
   ]
  },
  {
   "cell_type": "markdown",
   "id": "0814ea33",
   "metadata": {},
   "source": [
    "For simplicity we will generate the list at random based on the number of the elements that the user wants. "
   ]
  },
  {
   "cell_type": "code",
   "execution_count": 1,
   "id": "5b3723c1",
   "metadata": {},
   "outputs": [],
   "source": [
    "# To help us to generate the list at random \n",
    "from random import randint"
   ]
  },
  {
   "cell_type": "markdown",
   "id": "7952a50a",
   "metadata": {},
   "source": [
    "### 1- Explaining of the algorithm"
   ]
  },
  {
   "cell_type": "markdown",
   "id": "314c0ba4",
   "metadata": {},
   "source": [
    "Given the list which the algorithm should sort, the algorithm will consider the list as a heap tree."
   ]
  },
  {
   "cell_type": "markdown",
   "id": "61c92b8d",
   "metadata": {},
   "source": [
    "### 1.2- What is heap tree?"
   ]
  },
  {
   "cell_type": "markdown",
   "id": "6cb9ea08",
   "metadata": {},
   "source": [
    "Heap tree is a complete binary tree in which:<br/>\n",
    "1- Each node in tree has at most 2 children.<br/>\n",
    "2- The two children of a non-leaf node will be called 'left child' and 'right child'.<br/>\n",
    "3- Every level (depth) of the tree, except possibly the deepest (leaf level), is completely filled."
   ]
  },
  {
   "cell_type": "markdown",
   "id": "f3eec0f5",
   "metadata": {},
   "source": [
    "### 1.3- List as heap tree"
   ]
  },
  {
   "cell_type": "markdown",
   "id": "0b3c2923",
   "metadata": {},
   "source": [
    "A list will be considered as follows:<br/>\n",
    "For an index i (by considering the list are zero-indexed) its left child is stored in the '2*i+1' index and the its right child is stored in the '2*i+2' index.<br/>\n",
    "\n",
    "- **Note:** If the both indexes of the children of an index i exceeds the length of the list, that i'th index is a leaf node. "
   ]
  },
  {
   "cell_type": "markdown",
   "id": "6f9b4c85",
   "metadata": {},
   "source": [
    "Example: consider A = [1, 2, 3, 4, 5, 6]. Now here the heap tree will be considered as follows: <br/>\n",
    "- '1' (index = 0) the root of the tree -> left child = '2' (index = 1), right child = '3' (index = 2)\n",
    "- '2' (index = 1) non leaf node -> left child = '4' (index = 3), right child = '5' (index = 4)\n",
    "- '3' (index = 2) non leaf node -> left child '6' (index = 5)\n",
    "- '4' (index = 3, index * 2 + 1 > len(A)) -> leaf node\n",
    "- '5' (index = 4, index *2 + 1 > len(A)) -> leaf node\n",
    "- '6' (index = 5, index * 2 + 1 > len(A)) -> leaf node"
   ]
  },
  {
   "cell_type": "markdown",
   "id": "c445321d",
   "metadata": {},
   "source": [
    "![title](img/HeapTree.png)"
   ]
  },
  {
   "cell_type": "markdown",
   "id": "7119ac07",
   "metadata": {},
   "source": [
    "### 1.4 Root the biggest"
   ]
  },
  {
   "cell_type": "markdown",
   "id": "6a6415a2",
   "metadata": {},
   "source": [
    "Here we are considering sorting with MAX-Heap. In Max-Heap the root of the tree at each iteration should contain the maximum value among the elements in the list. "
   ]
  },
  {
   "cell_type": "markdown",
   "id": "4ef101e8",
   "metadata": {},
   "source": [
    "When we want to put the maximum value in the root of the tree, we will use the 'Heapify' function which goes through the non-leaf nodes from bottom to up and put maximum amon the parent node and its children to the parent node. "
   ]
  },
  {
   "cell_type": "markdown",
   "id": "6fb34e4d",
   "metadata": {},
   "source": [
    "### 1.5 Extracting the maximum "
   ]
  },
  {
   "cell_type": "markdown",
   "id": "dcb0436c",
   "metadata": {},
   "source": [
    "In order to sort the list, at each iteration we will put the maximum among all the elements in the list in the root of the tree and then pick that maximum and then look for the maximum among the rest. <br/>\n",
    "\n",
    "- We will do this until there is no more element in the list. "
   ]
  },
  {
   "cell_type": "markdown",
   "id": "5579e23c",
   "metadata": {},
   "source": [
    "# 2- Implementation "
   ]
  },
  {
   "cell_type": "markdown",
   "id": "7a4728a5",
   "metadata": {},
   "source": [
    "### 2.1- Heapify function "
   ]
  },
  {
   "cell_type": "markdown",
   "id": "7b89e62b",
   "metadata": {},
   "source": [
    "This function will receive some parameters: \n",
    "\n",
    "1- List: A list should be sorted<br/>\n",
    "2- Size: The size of the given list<br/>\n",
    "3- Index: An index of an element in the list which corresponds to the index of a non-leaf node in the heap structure."
   ]
  },
  {
   "cell_type": "markdown",
   "id": "85fed36e",
   "metadata": {},
   "source": [
    "Given the parameters above, it will put **the maximum value** among the given **parent node and its direct children** in to **the parent node**. This process will be done in **top down** procedure so at the end in all the nodes **in the subtree of the parent node this property preserves**. "
   ]
  },
  {
   "cell_type": "markdown",
   "id": "78d12960",
   "metadata": {},
   "source": [
    "You can see an example here: "
   ]
  },
  {
   "cell_type": "markdown",
   "id": "79a16e75",
   "metadata": {},
   "source": [
    "Assume that our list is [10, 3, 15, 5, 7, 8, 17, 6, 2]\n",
    "![title](img/Example1.png)"
   ]
  },
  {
   "cell_type": "markdown",
   "id": "e84857af",
   "metadata": {},
   "source": [
    "- Given the index 1 which contains the non-leaf node '3' the function will follow these steps: "
   ]
  },
  {
   "cell_type": "markdown",
   "id": "96ba84b8",
   "metadata": {},
   "source": [
    "|![title](img/Example1.1.png) | ![title](img/Example1.2.png)|\n",
    "|-|-|"
   ]
  },
  {
   "cell_type": "markdown",
   "id": "afd924ca",
   "metadata": {},
   "source": [
    "![title](img/Example1.3.png)"
   ]
  },
  {
   "cell_type": "code",
   "execution_count": 8,
   "id": "fc5d80f0",
   "metadata": {},
   "outputs": [],
   "source": [
    "def Heapify(List, Size, Index):\n",
    "    \n",
    "    # Assume that the parent node is the maximum \n",
    "    LargestIndex = Index \n",
    "    \n",
    "    # The index of the left child of the parent node\n",
    "    LeftNode = 2 * Index + 1  \n",
    "    \n",
    "    # The index of the right child of the parent node\n",
    "    RightNode = 2 * Index + 2 \n",
    "  \n",
    "    # If the left node exists and its value is greater than the parent node\n",
    "    if LeftNode < Size and List[Index] < List[LeftNode]:\n",
    "        \n",
    "        # We take the index of the greatest one between parent and left child which is left child\n",
    "        LargestIndex = LeftNode\n",
    "  \n",
    "    # If the right node exists and its value is greated than the greatest value between parent node and left sibiling\n",
    "    if RightNode < Size and List[LargestIndex] < List[RightNode]:\n",
    "        \n",
    "        # Take the index of the right child which is the greatest\n",
    "        LargestIndex = RightNode\n",
    "    \n",
    "    # If the parent node is not greatest\n",
    "    if LargestIndex != Index:\n",
    "        \n",
    "        # Swap the value of the parent node and the greatest children \n",
    "        List[Index], List[LargestIndex] = List[LargestIndex], List[Index]\n",
    "        \n",
    "        # Go to that child and again follow the procedure as the value of the parent node is possible \n",
    "        # to be lower than the values of the children of its greatest child. \n",
    "        Heapify(List, Size, LargestIndex)\n"
   ]
  },
  {
   "cell_type": "markdown",
   "id": "ea7a930e",
   "metadata": {},
   "source": [
    "### 2.2 HeapSort function"
   ]
  },
  {
   "cell_type": "markdown",
   "id": "53f3dc2b",
   "metadata": {},
   "source": [
    "In this function we will follow these steps: "
   ]
  },
  {
   "cell_type": "markdown",
   "id": "7103f720",
   "metadata": {},
   "source": [
    "1- For each non-leaf node in the tree we will call the Heapify function in a bottom up procedure so that in each parent node the property that each parent node is greater than its children be preserved. \n",
    "* **After doing so the root of the tree will be containing the greatest value in the tree**. <br/>\n",
    "\n",
    "2- Then at each iteration we will take out the root of the tree and swap it with the last element in the tree (list). Now we are considering a new list to sort without considering the last element which is the root of the previous tree which we know its sorted. <br/>\n",
    "\n",
    "3- We will follow the above algorithm until we reach a list which only has one item in it. \n"
   ]
  },
  {
   "cell_type": "markdown",
   "id": "d00c25a3",
   "metadata": {},
   "source": [
    "Parameters of the HeapSort: <br/>\n",
    "\n",
    "1- List: The list which should be sorted<br/>\n",
    "2- Descending: If False the result will be a sorted list in decreasing order and in increasing order if its False. The default value will be False. "
   ]
  },
  {
   "cell_type": "code",
   "execution_count": 13,
   "id": "ae0c6495",
   "metadata": {},
   "outputs": [],
   "source": [
    "def HeapSort(List, Descending = False):\n",
    "    \n",
    "    # The length of the list\n",
    "    Size = len(List)\n",
    "    \n",
    "    # For each non-leaf node \n",
    "    for NonLeafNodeIndex in range(Size // 2 - 1, -1, -1):\n",
    "        \n",
    "        # Call heapify function so that for that parent and its subtrees put the parent node as the greatest \n",
    "        Heapify(List, Size, NonLeafNodeIndex)\n",
    "        \n",
    "    # One by one pick the root value which is the greatest value among that sublist\n",
    "    for LastIndex in range(Size-1, 0, -1):\n",
    "        \n",
    "        # Swap the root and the last value in the list \n",
    "        List[LastIndex], List[0] = List[0], List[LastIndex]  \n",
    "        \n",
    "        # Call again heapify to get the greatest in the root without considering the last value of the list in the\n",
    "        # previous literall. \n",
    "        Heapify(List, LastIndex, 0)\n",
    "    \n",
    "    # If the user wants descending sort return back the reverse of the list. \n",
    "    return List[::-1] if Descending else List"
   ]
  },
  {
   "cell_type": "markdown",
   "id": "0a4d2143",
   "metadata": {},
   "source": [
    "The sorted version of the list that we have defined in the previous section in decreasing order is: "
   ]
  },
  {
   "cell_type": "code",
   "execution_count": 17,
   "id": "1e654218",
   "metadata": {},
   "outputs": [
    {
     "data": {
      "text/plain": [
       "[17, 15, 10, 8, 7, 6, 5, 3, 2]"
      ]
     },
     "execution_count": 17,
     "metadata": {},
     "output_type": "execute_result"
    }
   ],
   "source": [
    "HeapSort([10, 3, 15, 5, 7, 8, 17, 6, 2], True)"
   ]
  }
 ],
 "metadata": {
  "kernelspec": {
   "display_name": "Python 3 (ipykernel)",
   "language": "python",
   "name": "python3"
  },
  "language_info": {
   "codemirror_mode": {
    "name": "ipython",
    "version": 3
   },
   "file_extension": ".py",
   "mimetype": "text/x-python",
   "name": "python",
   "nbconvert_exporter": "python",
   "pygments_lexer": "ipython3",
   "version": "3.8.10"
  }
 },
 "nbformat": 4,
 "nbformat_minor": 5
}

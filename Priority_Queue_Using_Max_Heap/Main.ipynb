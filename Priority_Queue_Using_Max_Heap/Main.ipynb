{
 "cells": [
  {
   "cell_type": "markdown",
   "id": "fcc90cc2",
   "metadata": {},
   "source": [
    "# Max_Priority_Queue using Heap "
   ]
  },
  {
   "cell_type": "markdown",
   "id": "125a9824",
   "metadata": {},
   "source": [
    "* We need to implement 4 different function in order to implement the priority queue with heaps: \n",
    "    1. Insert(new_key)\n",
    "    2. Maximum()\n",
    "    3. Extract_Max()\n",
    "    4. Increase_Key(index, new_key)\n",
    "    5. Max_Heapify(index)"
   ]
  },
  {
   "cell_type": "code",
   "execution_count": 190,
   "id": "1706f00d",
   "metadata": {},
   "outputs": [],
   "source": [
    "class Priority_Queue:\n",
    "    \n",
    "    # Default data structure for Queue\n",
    "    def __init__(self):\n",
    "        \n",
    "        # The array \n",
    "        self.list = []\n",
    "        \n",
    "        # The size of the heap\n",
    "        self.size = 0\n",
    "        \n",
    "        # The size of the array\n",
    "        # We keep this to know that if we need to add new memory for adding new element to the queue\n",
    "        self.length = 0 \n",
    "    \n",
    "    # Overriding the string representation of the Priority Queue\n",
    "    def __str__(self):\n",
    "        return \"This is the values in the priority queue: \" + ', '.join([str(i) for i in self.list[:self.size]])\n",
    "    \n",
    "    # This function given an index of an element, will update the key of the element \n",
    "    # Such update can be occured if the new key is greater than the previous one\n",
    "    def Increase_Key(self, index, new_key):\n",
    "        \n",
    "        # Check of the given index is in the queue and of the new value is greater than the previous one\n",
    "        if index >= self.size or new_key < self.list[index]:\n",
    "            \n",
    "            # If not, we can not perform the update\n",
    "            return False\n",
    "        \n",
    "        # We update the key of the given element\n",
    "        self.list[index] = new_key\n",
    "        \n",
    "        # Then we should make sure that the Max_Heap property is preserved\n",
    "        # In order to do this we should traverse through the root and put the current element to the \n",
    "        # correct position in the Max_Heap.\n",
    "        \n",
    "        \n",
    "        # The index of the parent node of the given element is: (index - 1) // 2 \n",
    "        # We should do this until we reach the root or we find a parent node that its key is greater or equal\n",
    "        # to the key of the element\n",
    "        while index > 0 and self.list[(index - 1)//2 ] < new_key:\n",
    "            \n",
    "            # Swapping the child with its parent \n",
    "            self.list[(index - 1 ) // 2 ], self.list[index] = self.list[index],  self.list[(index - 1 ) // 2 ]\n",
    "            \n",
    "            # Go to the parent node \n",
    "            index = (index - 1 )//2\n",
    "    \n",
    "    # This function will return the element that has the greatest key in the Priority_Queue\n",
    "    def Maximum(self):\n",
    "        \n",
    "        # The root has the greatest key\n",
    "        return self.list[0]\n",
    "        \n",
    "    # This function will add a new node with new_key value to the Priority_Queue\n",
    "    def Insert(self, new_key):\n",
    "        \n",
    "        # The array size and the element in the queue are the same \n",
    "        # so we should get new memory to add the new element\n",
    "        if self.length == self.size:\n",
    "            \n",
    "            # First we put the key of that element to -infinity\n",
    "            self.list.append(float('-inf'))\n",
    "            \n",
    "            # Increment the size of the queue\n",
    "            self.length += 1\n",
    "        \n",
    "        # If the list has the enough memory to add a new element\n",
    "        else:\n",
    "            \n",
    "            # Use that one as the memory to give to the last element of the queue\n",
    "            self.list[self.size] = float('-inf')\n",
    "        \n",
    "        # Increment the size of the queue by one, as we have added a new element to the queue\n",
    "        self.size += 1 \n",
    "        \n",
    "        # Then we set the real value of the new element by calling the Increase_Key function. \n",
    "        # As we put the default key of the new element to -infinity, so we are sure that \n",
    "        # such update will be performed. \n",
    "        self.Increase_Key(self.size - 1, new_key)\n",
    "    \n",
    "    \n",
    "    # This function may rellocate the element of the Max_Heap, so that the Max_Heap property be preserved\n",
    "    def Max_Heapify(self, considered_index):\n",
    "    \n",
    "        # Assume that the parent node is the maximum \n",
    "        LargestIndex = considered_index \n",
    "\n",
    "        # The index of the left child of the parent node\n",
    "        LeftNode = 2 * considered_index + 1  \n",
    "\n",
    "        # The index of the right child of the parent node\n",
    "        RightNode = 2 * (considered_index + 1)\n",
    "\n",
    "        # If the left node exists and its value is greater than the parent node\n",
    "        if LeftNode < self.size and self.list[considered_index] < self.list[LeftNode]:\n",
    "\n",
    "            # We take the index of the greatest one between parent and left child which is left child\n",
    "            LargestIndex = LeftNode\n",
    "\n",
    "        # If the right node exists and its value is greated than the greatest value between parent node and left sibiling\n",
    "        if RightNode < self.size and self.list[LargestIndex] < self.list[RightNode]:\n",
    "\n",
    "            # Take the index of the right child which is the greatest\n",
    "            LargestIndex = RightNode\n",
    "\n",
    "        # If the parent node is not greatest\n",
    "        if LargestIndex != considered_index:\n",
    "\n",
    "            # Swap the value of the parent node and the greatest children \n",
    "            self.list[considered_index], self.list[LargestIndex] = self.list[LargestIndex], self.list[considered_index]\n",
    "\n",
    "            # Go to that child and again follow the procedure as the value of the parent node is possible \n",
    "            # to be lower than the values of the children of its greatest child. \n",
    "            self.Max_Heapify(LargestIndex)\n",
    "\n",
    "    # This function will return the element that has the maximum key and remove that element from the \n",
    "    # Priority_Queue\n",
    "    \n",
    "    # We know that after removing the root node that has the maximum key, the Max_Heap property migth\n",
    "    # not be preserved. So after removing the root node we will call Max_Heapify function \n",
    "    # to make sure that property is preserved at all time. \n",
    "    def Extract_Max(self):\n",
    "        \n",
    "        # When the queue is empty we don't have any element in the Priority_Queue\n",
    "        if self.size ==0:\n",
    "            return False\n",
    "        \n",
    "        # Take the maximum value \n",
    "        Maximum_value = self.list[0]\n",
    "        \n",
    "        # Removing the maximum is the same as putting it at the end of the \n",
    "        self.list[0], self.list[self.size - 1] = self.list[self.size - 1], self.list[0]\n",
    "        \n",
    "        # Decreasing the size of the Max_Heap by one\n",
    "        self.size -= 1\n",
    "        \n",
    "        # Call the Max_Heapify function to make sure the Max_Heap property is preserved\n",
    "        self.Max_Heapify(0)\n",
    "        \n",
    "        # Return the maximum key in the queue\n",
    "        return Maximum_value\n",
    "        \n",
    "        "
   ]
  },
  {
   "cell_type": "markdown",
   "id": "9d7c4e49",
   "metadata": {},
   "source": [
    "# Testing"
   ]
  },
  {
   "cell_type": "code",
   "execution_count": 212,
   "id": "543c62a7",
   "metadata": {},
   "outputs": [],
   "source": [
    "My_Priority_Queue = Priority_Queue()"
   ]
  },
  {
   "cell_type": "code",
   "execution_count": 214,
   "id": "0e4c590c",
   "metadata": {},
   "outputs": [],
   "source": [
    "My_Priority_Queue.Insert(4)\n",
    "My_Priority_Queue.Insert(2)\n",
    "My_Priority_Queue.Insert(6)\n",
    "My_Priority_Queue.Insert(5)\n",
    "My_Priority_Queue.Insert(1)\n",
    "My_Priority_Queue.Insert(10)"
   ]
  },
  {
   "cell_type": "code",
   "execution_count": 215,
   "id": "ec8c4141",
   "metadata": {},
   "outputs": [
    {
     "name": "stdout",
     "output_type": "stream",
     "text": [
      "This is the values in the priority queue: 10, 5, 6, 2, 1, 4\n"
     ]
    }
   ],
   "source": [
    "print(My_Priority_Queue)"
   ]
  },
  {
   "cell_type": "code",
   "execution_count": 218,
   "id": "5df5e255",
   "metadata": {},
   "outputs": [
    {
     "name": "stdout",
     "output_type": "stream",
     "text": [
      "This is the maximum element in the Priority_Queue:  10\n"
     ]
    }
   ],
   "source": [
    "print(\"This is the maximum element in the Priority_Queue: \", My_Priority_Queue.Maximum())"
   ]
  },
  {
   "cell_type": "code",
   "execution_count": 219,
   "id": "bc21baac",
   "metadata": {},
   "outputs": [
    {
     "name": "stdout",
     "output_type": "stream",
     "text": [
      "This is the maximum element in the Priority_Queue:  10\n"
     ]
    }
   ],
   "source": [
    "print(\"This is the maximum element in the Priority_Queue: \", My_Priority_Queue.Extract_Max())"
   ]
  },
  {
   "cell_type": "code",
   "execution_count": 220,
   "id": "3c0daf58",
   "metadata": {},
   "outputs": [
    {
     "name": "stdout",
     "output_type": "stream",
     "text": [
      "This is the values in the priority queue: 6, 5, 4, 2, 1\n"
     ]
    }
   ],
   "source": [
    "print(My_Priority_Queue)"
   ]
  },
  {
   "cell_type": "markdown",
   "id": "2bc2fbdc",
   "metadata": {},
   "source": [
    "<p style=\"color:red;\"> As we can see above, the <b>maximum element in the Priority_Queue was extracted</b> and also the <b>Max_Heap was updated</b> such that the <b>element that has the maximum key</b>, be in the <b>root of the Max_Heap</b>.</p> "
   ]
  },
  {
   "cell_type": "code",
   "execution_count": 221,
   "id": "83c55cf0",
   "metadata": {},
   "outputs": [],
   "source": [
    "My_Priority_Queue.Insert(10)"
   ]
  },
  {
   "cell_type": "code",
   "execution_count": 222,
   "id": "70841fb3",
   "metadata": {},
   "outputs": [
    {
     "name": "stdout",
     "output_type": "stream",
     "text": [
      "This is the values in the priority queue: 10, 5, 6, 2, 1, 4\n"
     ]
    }
   ],
   "source": [
    "print(My_Priority_Queue)"
   ]
  },
  {
   "cell_type": "markdown",
   "id": "0a4d0f32",
   "metadata": {},
   "source": [
    "<p style=\"color:red;\"> Also when a <b>new element comes</b>, it goes to the <b>correct position</b> in the Priority_Queue.</p> "
   ]
  }
 ],
 "metadata": {
  "kernelspec": {
   "display_name": "Python 3 (ipykernel)",
   "language": "python",
   "name": "python3"
  },
  "language_info": {
   "codemirror_mode": {
    "name": "ipython",
    "version": 3
   },
   "file_extension": ".py",
   "mimetype": "text/x-python",
   "name": "python",
   "nbconvert_exporter": "python",
   "pygments_lexer": "ipython3",
   "version": "3.8.10"
  },
  "toc": {
   "base_numbering": 1,
   "nav_menu": {},
   "number_sections": true,
   "sideBar": true,
   "skip_h1_title": false,
   "title_cell": "Table of Contents",
   "title_sidebar": "Contents",
   "toc_cell": false,
   "toc_position": {},
   "toc_section_display": true,
   "toc_window_display": false
  }
 },
 "nbformat": 4,
 "nbformat_minor": 5
}
